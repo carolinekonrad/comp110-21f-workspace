{
 "cells": [
  {
   "cell_type": "markdown",
   "metadata": {},
   "source": [
    "# Hypothesis:\n",
    "\n",
    "Students who are Computer Science Major will think the course is moving more slowly than those who did not take it."
   ]
  },
  {
   "cell_type": "code",
   "execution_count": 1,
   "metadata": {},
   "outputs": [],
   "source": [
    "__author__ = \"730369129\"\n",
    "\n",
    "%reload_ext autoreload\n",
    "%autoreload 2"
   ]
  },
  {
   "cell_type": "markdown",
   "metadata": {},
   "source": [
    "### First, I will read in the csv and convert it to a column-oriented data table."
   ]
  },
  {
   "cell_type": "code",
   "execution_count": 5,
   "metadata": {},
   "outputs": [],
   "source": [
    "from data_utils import read_csv_rows, columnar\n",
    "\n",
    "data_rows: list[dict[str, str]] = read_csv_rows('../../data/survey.csv')\n",
    "columns: dict[str, list[str]] = columnar(data_rows)"
   ]
  },
  {
   "cell_type": "markdown",
   "metadata": {},
   "source": [
    "## Next, I will select just the section column. Here are the first five rows:"
   ]
  },
  {
   "cell_type": "code",
   "execution_count": 18,
   "metadata": {},
   "outputs": [
    {
     "name": "stdout",
     "output_type": "stream",
     "text": [
      "{'comp_major': ['No', 'No', 'No', 'No', 'No', 'No', 'No', 'No', 'No', 'No', 'No', 'No', 'No', 'No', 'No', 'No', 'No', 'No', 'No', 'No', 'No', 'No', 'No', 'Yes - Minor', 'No', 'No', 'No', 'No', 'No', 'No', 'No', 'No', 'No', 'No', 'No', 'Yes - BS', 'No', 'No', 'No', 'No', 'No', 'No', 'No', 'No', 'No', 'No', 'No', 'No', 'No', 'No']}\n"
     ]
    },
    {
     "data": {
      "text/plain": [
       "{'pace': ['5', '5', '5', '6', '5']}"
      ]
     },
     "execution_count": 18,
     "metadata": {},
     "output_type": "execute_result"
    }
   ],
   "source": [
    "from data_utils import head, select\n",
    "subset: dict[str, list[str]] = select(columns, [\"comp_major\"])\n",
    "print(head(subset, 50))\n",
    "subset_2: dict[str, list[str]] = select(columns, [\"pace\"])\n",
    "head(subset_2, 5)"
   ]
  },
  {
   "cell_type": "markdown",
   "metadata": {},
   "source": [
    "### Next I will count up the totals of each."
   ]
  },
  {
   "cell_type": "code",
   "execution_count": 21,
   "metadata": {},
   "outputs": [
    {
     "name": "stdout",
     "output_type": "stream",
     "text": [
      "Total of comp majors: 88 BS + 48 BA\n",
      "Total of non-comp majors: 437\n"
     ]
    }
   ],
   "source": [
    "from data_utils import count\n",
    "counts = count(subset['comp_major'])\n",
    "from data_utils import count_non_majors\n",
    "counts_nonmajors = count_non_majors(subset['comp_major'])\n",
    "\n",
    "print(f\"Total of comp majors: {counts['Yes - BS']} BS + {counts['Yes - BA']} BA\")\n",
    "print(f\"Total of non-comp majors: {counts_nonmajors}\")"
   ]
  },
  {
   "cell_type": "markdown",
   "metadata": {},
   "source": [
    "### Next, I will find the average pace for comp majors vs. non-comp majors."
   ]
  },
  {
   "cell_type": "code",
   "execution_count": 31,
   "metadata": {},
   "outputs": [],
   "source": [
    "def average_major(xs: dict[str, list[str]]) -> dict[str, float]:\n",
    "    result_sum: dict[str, int] = {}\n",
    "    result_sum['No'] = 0\n",
    "    result_sum['Yes'] = 0\n",
    "    result_count: dict[str, int] = {}\n",
    "    result_count['No'] = 0\n",
    "    result_count['Yes'] = 0\n",
    "    i: int = 0\n",
    "    while i < len(xs['comp_major']):\n",
    "        if xs['comp_major'][i] == 'No':\n",
    "            result_sum['No'] = result_sum['No'] + int(xs['pace'][i])\n",
    "            result_count['No'] = result_count['No'] + 1\n",
    "        if xs['comp_major'][i] == 'Yes - minor':\n",
    "            result_sum['No'] = result_sum['No'] + int(xs['pace'][i])\n",
    "            result_count['No'] = result_count['No'] + 1\n",
    "        if xs['comp_major'][i] == ('Yes - BS' or 'Yes - BA'):\n",
    "            result_sum['Yes'] = result_sum['Yes'] + int(xs['pace'][i])\n",
    "            result_count['Yes'] = result_count['Yes'] + 1\n",
    "        i += 1\n",
    "\n",
    "    result_dict: dict[str, float] = {}\n",
    "    for key in result_sum:\n",
    "        result_dict[key] = result_sum[key] / result_count[key]  \n",
    "\n",
    "    return result_dict"
   ]
  },
  {
   "cell_type": "code",
   "execution_count": 32,
   "metadata": {},
   "outputs": [
    {
     "data": {
      "text/plain": [
       "{'No': 5.4727722772277225, 'Yes': 4.681818181818182}"
      ]
     },
     "execution_count": 32,
     "metadata": {},
     "output_type": "execute_result"
    }
   ],
   "source": [
    "subset_3: dict[str, list[str]] = select(columns, [\"comp_major\",\"pace\"])\n",
    "head(subset_3,10)\n",
    "\n",
    "average_major(subset_3)"
   ]
  },
  {
   "cell_type": "markdown",
   "metadata": {},
   "source": [
    "## Make graphs"
   ]
  },
  {
   "cell_type": "code",
   "execution_count": 33,
   "metadata": {},
   "outputs": [],
   "source": [
    "def major_splitter(xs: dict[str, list[str]]) -> dict[str, list[str]]:\n",
    "    result: dict[str, list[str]] = {}\n",
    "    result['No'] = []\n",
    "    result['Yes'] = []\n",
    "    i: int = 0\n",
    "    while i < len(xs['comp_major']):\n",
    "        if xs['comp_major'][i] == 'No':\n",
    "            result['No'].append(xs['pace'][i])\n",
    "        if xs['comp_major'][i] == 'Yes - minor':\n",
    "            result['No'].append(xs['pace'][i])\n",
    "        if xs['comp_major'][i] == ('Yes - BS' or 'Yes - BA'):\n",
    "            result['Yes'].append(xs['pace'][i])\n",
    "        i += 1\n",
    "\n",
    "    \n",
    "    return result"
   ]
  },
  {
   "cell_type": "code",
   "execution_count": 34,
   "metadata": {},
   "outputs": [],
   "source": [
    "major_values = major_splitter(subset_3)\n",
    "no_vals = count(major_values['No'])\n",
    "yes_vals = count(major_values['Yes'])"
   ]
  },
  {
   "cell_type": "code",
   "execution_count": 35,
   "metadata": {},
   "outputs": [
    {
     "data": {
      "text/plain": [
       "<BarContainer object of 7 artists>"
      ]
     },
     "execution_count": 35,
     "metadata": {},
     "output_type": "execute_result"
    },
    {
     "data": {
      "image/png": "[encoded data removed]",
      "text/plain": [
       "<Figure size 864x360 with 2 Axes>"
      ]
     },
     "metadata": {
      "needs_background": "light"
     },
     "output_type": "display_data"
    }
   ],
   "source": [
    "from matplotlib import pyplot as plt\n",
    "\n",
    "fig, axes = plt.subplots(1, 2, figsize=(12, 5), sharey=True)\n",
    "fig.suptitle(\"Pace values by major\")\n",
    "\n",
    "\n",
    "\n",
    "axes[0].set_title(\"Non-Major\")\n",
    "axes[0].bar(no_vals.keys(), no_vals.values())\n",
    "axes[0].tick_params(axis='x', labelrotation = 45)\n",
    "\n",
    "axes[1].set_title(\"Major\")\n",
    "axes[1].bar(yes_vals.keys(), yes_vals.values())"
   ]
  },
  {
   "cell_type": "markdown",
   "metadata": {},
   "source": [
    "# Conclusion\n",
    "\n",
    "In conclusion, the average 'pace' value for non-Comp Sci majors is higher than those that are Comp Sci majors, implying Comp Sci majors think that the pace is slower than those that aren't Comp Sci majors. "
   ]
  }
 ],
 "metadata": {
  "interpreter": {
   "hash": "97a2fa9fc119fed249e0a4accde3cff38f51bfb21936d9ab92b74711fcfea9a0"
  },
  "kernelspec": {
   "display_name": "Python 3.9.6 64-bit",
   "name": "python3"
  },
  "language_info": {
   "codemirror_mode": {
    "name": "ipython",
    "version": 3
   },
   "file_extension": ".py",
   "mimetype": "text/x-python",
   "name": "python",
   "nbconvert_exporter": "python",
   "pygments_lexer": "ipython3",
   "version": "3.9.6"
  },
  "orig_nbformat": 4
 },
 "nbformat": 4,
 "nbformat_minor": 2
}
